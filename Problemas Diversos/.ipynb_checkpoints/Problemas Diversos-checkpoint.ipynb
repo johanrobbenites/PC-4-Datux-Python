{
 "cells": [
  {
   "cell_type": "markdown",
   "metadata": {
    "tags": []
   },
   "source": [
    "# PROBLEMAS DIVERSOS"
   ]
  },
  {
   "cell_type": "markdown",
   "metadata": {},
   "source": [
    "## FICHEROS\n",
    "-------------------------"
   ]
  },
  {
   "cell_type": "markdown",
   "metadata": {},
   "source": [
    "### 1.\n",
    "Escribir una función que pida un número entero entre 1 y 10 y guarde en un fichero con el nombre tabla-n.txt la tabla de multiplicar de ese número, done n es el número introducido."
   ]
  },
  {
   "cell_type": "code",
   "execution_count": 1,
   "metadata": {},
   "outputs": [
    {
     "name": "stdin",
     "output_type": "stream",
     "text": [
      "Ingrese un número entre 1 y 10:  5\n"
     ]
    },
    {
     "data": {
      "text/plain": [
       "5"
      ]
     },
     "execution_count": 1,
     "metadata": {},
     "output_type": "execute_result"
    }
   ],
   "source": [
    "n = int(input('Ingrese un número entre 1 y 10: '))\n",
    "n"
   ]
  },
  {
   "cell_type": "code",
   "execution_count": 4,
   "metadata": {},
   "outputs": [],
   "source": [
    "tabla = []\n",
    "for i in range(1,13):\n",
    "    tabla.append(f'{n} x {i} = {n * i}\\n')"
   ]
  },
  {
   "cell_type": "code",
   "execution_count": null,
   "metadata": {},
   "outputs": [],
   "source": [
    "# https://docs.hektorprofe.net/python/funcionalidades-avanzadas/comprension-de-listas/"
   ]
  },
  {
   "cell_type": "code",
   "execution_count": 6,
   "metadata": {},
   "outputs": [],
   "source": [
    "tabla = [ f'{n} x {i} = {n * i}\\n'  for i in range(1,13) ]"
   ]
  },
  {
   "cell_type": "code",
   "execution_count": 7,
   "metadata": {},
   "outputs": [
    {
     "data": {
      "text/plain": [
       "['5 x 1 = 5\\n',\n",
       " '5 x 2 = 10\\n',\n",
       " '5 x 3 = 15\\n',\n",
       " '5 x 4 = 20\\n',\n",
       " '5 x 5 = 25\\n',\n",
       " '5 x 6 = 30\\n',\n",
       " '5 x 7 = 35\\n',\n",
       " '5 x 8 = 40\\n',\n",
       " '5 x 9 = 45\\n',\n",
       " '5 x 10 = 50\\n',\n",
       " '5 x 11 = 55\\n',\n",
       " '5 x 12 = 60\\n']"
      ]
     },
     "execution_count": 7,
     "metadata": {},
     "output_type": "execute_result"
    }
   ],
   "source": [
    "tabla"
   ]
  },
  {
   "cell_type": "code",
   "execution_count": 5,
   "metadata": {},
   "outputs": [],
   "source": [
    "with open(f'tabla-{n}.txt', 'w') as f:\n",
    "    f.writelines(tabla)"
   ]
  },
  {
   "cell_type": "code",
   "execution_count": 8,
   "metadata": {},
   "outputs": [],
   "source": [
    "open(f'tabla-{n}_2.txt', 'w').writelines(tabla)"
   ]
  },
  {
   "cell_type": "code",
   "execution_count": null,
   "metadata": {},
   "outputs": [],
   "source": []
  },
  {
   "cell_type": "markdown",
   "metadata": {},
   "source": [
    "<h3>2.</h3>\n",
    "Escribir una función que pida un número entero entre 1 y 10, lea el fichero tabla-n.txt con la tabla de multiplicar de ese número, done n es el número introducido, y la muestre por pantalla. Si el fichero no existe debe mostrar un mensaje por pantalla informando de ello."
   ]
  },
  {
   "cell_type": "code",
   "execution_count": null,
   "metadata": {},
   "outputs": [],
   "source": []
  },
  {
   "cell_type": "code",
   "execution_count": null,
   "metadata": {},
   "outputs": [],
   "source": []
  },
  {
   "cell_type": "markdown",
   "metadata": {},
   "source": [
    "<h3>3.</h3>\n",
    "\n",
    "Escribir una función que pida dos números n y m entre 1 y 10, lea el fichero tabla-n.txt con la tabla de multiplicar de ese número, y muestre por pantalla la línea m del fichero. Si el fichero no existe debe mostrar un mensaje por pantalla informando de ello."
   ]
  },
  {
   "cell_type": "code",
   "execution_count": null,
   "metadata": {},
   "outputs": [],
   "source": []
  },
  {
   "cell_type": "markdown",
   "metadata": {
    "tags": []
   },
   "source": [
    "## Expresiones Regulares\n",
    "---------------------------------------------\n"
   ]
  },
  {
   "cell_type": "code",
   "execution_count": 1,
   "metadata": {},
   "outputs": [],
   "source": [
    "from modulo import datos\n",
    "import re"
   ]
  },
  {
   "cell_type": "code",
   "execution_count": 2,
   "metadata": {},
   "outputs": [],
   "source": [
    "path = './data/re/short_tweets.csv'"
   ]
  },
  {
   "cell_type": "markdown",
   "metadata": {},
   "source": [
    "<h3>1.</h3>\n",
    "\n",
    "Escriba una expresión regular que encuentre todas las coincidencias que sigan el siguiente patrón.\n",
    "\n",
    "Ej. <code>@robot3!</code>"
   ]
  },
  {
   "cell_type": "code",
   "execution_count": null,
   "metadata": {},
   "outputs": [],
   "source": [
    "# Cadena entrada\n",
    "s = '@robot9! @robot4& I have a good feeling that the show isgoing to be amazing! @robot9$ @robot7%'\n",
    "s"
   ]
  },
  {
   "cell_type": "code",
   "execution_count": null,
   "metadata": {},
   "outputs": [],
   "source": []
  },
  {
   "cell_type": "markdown",
   "metadata": {},
   "source": [
    "<h3>2.</h3>\n",
    "Escriba una expresión regular para cada caso: \n",
    "\n",
    "- todos los usuarios que sigan el siguente patron. <code>User_mentions:9</code>\n",
    "\n",
    "- encuentre los numero de likes: <code>likes: 5</code>\n",
    "\n",
    "- que permita encontrar el numero de retweets. <code>number of retweets: 4</code>"
   ]
  },
  {
   "cell_type": "code",
   "execution_count": null,
   "metadata": {},
   "outputs": [],
   "source": [
    "# Cadena entrada\n",
    "s = \"Unfortunately one of those moments wasn't a giant squid monster. User_mentions:2, likes: 9, number of retweets: 7\"\n",
    "s"
   ]
  },
  {
   "cell_type": "code",
   "execution_count": null,
   "metadata": {},
   "outputs": [],
   "source": []
  },
  {
   "cell_type": "markdown",
   "metadata": {},
   "source": [
    "<h3>3.</h3>\n",
    "\n",
    "Escriba una expresión regular que encuente los nombres de archivos txt en la cadena:\n",
    "\n",
    "    - Nombre de archivo txt siempre inicia al principio de la cadena\n",
    "    - Siempre comienzan con una secuencia de 2 o 3 vocales mayúsculas o minúsculas (a e i o u).\n",
    "    - Ellos siempre terminan con el final del txt.\n",
    "\n"
   ]
  },
  {
   "cell_type": "code",
   "execution_count": 5,
   "metadata": {},
   "outputs": [],
   "source": [
    "analisis_sentimientos = datos.read_pandas(path,780,782)"
   ]
  },
  {
   "cell_type": "code",
   "execution_count": 6,
   "metadata": {},
   "outputs": [
    {
     "name": "stdout",
     "output_type": "stream",
     "text": [
      "AIshadowhunters.txt aaaaand back to my literature review. At least i have a friendly cup of coffee to keep me company\n",
      "ouMYTAXES.txt I am worried that I won't get my $900 even though I paid tax last year\n"
     ]
    }
   ],
   "source": [
    "#regex = r\"\"  # complete aqui\n",
    "for tweet in analisis_sentimientos:\n",
    "    print(tweet)\n",
    "    \n",
    "    # Encuentre todos los casos\n",
    "    #print(re.findall(regex, tweet))"
   ]
  },
  {
   "cell_type": "code",
   "execution_count": null,
   "metadata": {},
   "outputs": [],
   "source": []
  },
  {
   "cell_type": "markdown",
   "metadata": {},
   "source": [
    "<h3>4.</h3>\n",
    "\n",
    "Escriba una expresión regular que valide una lista de correos electrónicos\n",
    "- Primera parte:\n",
    "    - Caracteres en mayuscula y minúscula\n",
    "    - Números\n",
    "    - Caracteres especiales: !, #, %, &, *, $, .\n",
    "- Debe contener @\n",
    "- Dominio:\n",
    "    - Puede ser cualquier conjunto de caracteres\n",
    "    - Solo puede terminar con <code>.com</code>\n",
    "\n",
    "ENTRADA:\n",
    "\n",
    "- ['n.john.smith@gmail.com', '87victory@hotmail.com', '!#mary-=@msca.net']\n",
    "    \n",
    "SALIDA:\n",
    "\n",
    "- The email <code>n.john.smith@gmail.com</code> is a valid email\n",
    "- The email <code>87victory@hotmail.com</code> is a valid email\n",
    "- The email <code>!#mary-=@msca.net</code> is invalid\n"
   ]
  },
  {
   "cell_type": "code",
   "execution_count": null,
   "metadata": {},
   "outputs": [],
   "source": [
    "# Escriba una expresión regular para validar un correo\n",
    "regex = r\"\"\n",
    "\n",
    "emails = ['n.john.smith@gmail.com', '87victory@hotmail.com', '!#mary-=@msca.net']\n",
    "for example in emails:\n",
    "    # Match the regex to the string\n",
    "    if re.match(regex, example):\n",
    "        # Complete the format method to print out the result\n",
    "        print(\"The email {email_example} is a valid email\".format(email_example=example))\n",
    "    else:\n",
    "        print(\"The email {email_example} is invalid\".format(email_example=example))   "
   ]
  }
 ],
 "metadata": {
  "kernelspec": {
   "display_name": "Python 3 (ipykernel)",
   "language": "python",
   "name": "python3"
  },
  "language_info": {
   "codemirror_mode": {
    "name": "ipython",
    "version": 3
   },
   "file_extension": ".py",
   "mimetype": "text/x-python",
   "name": "python",
   "nbconvert_exporter": "python",
   "pygments_lexer": "ipython3",
   "version": "3.8.11"
  }
 },
 "nbformat": 4,
 "nbformat_minor": 4
}
